{
 "cells": [
  {
   "cell_type": "code",
   "execution_count": null,
   "metadata": {
    "vscode": {
     "languageId": "plaintext"
    }
   },
   "outputs": [],
   "source": [
    "import matplotlib.pyplot as plt\n",
    "from src.data.mongo_connector import MongoRetrainer\n",
    "\n",
    "mongo = MongoRetrainer()\n",
    "results = mongo.db.fundus_images.aggregate([\n",
    "    {\"$group\": {\"_id\": \"$diagnosis\", \"count\": {\"$sum\": 1}}}\n",
    "])\n",
    "\n",
    "diagnoses = {r['_id']: r['count'] for r in results}\n",
    "plt.bar(diagnoses.keys(), diagnoses.values())\n",
    "plt.title('Class Distribution')\n",
    "plt.show()"
   ]
  }
 ],
 "metadata": {
  "language_info": {
   "name": "python"
  }
 },
 "nbformat": 4,
 "nbformat_minor": 2
}
